{
 "cells": [
  {
   "cell_type": "code",
   "execution_count": null,
   "id": "a47e66b8",
   "metadata": {},
   "outputs": [],
   "source": [
    "import pandas as pd\n",
    "\n",
    "# Load data\n",
    "df = pd.read_csv(\"dataset/sample_data.csv\")\n",
    "df['Date'] = pd.to_datetime(df['Date'])\n",
    "df['Month'] = df['Date'].dt.to_period(\"M\")\n",
    "\n",
    "# Basic cohort: conversion by month\n",
    "cohort = df.groupby('Month')['Conversion'].value_counts(normalize=True).unstack().fillna(0)\n",
    "print(cohort)\n"
   ]
  }
 ],
 "metadata": {},
 "nbformat": 4,
 "nbformat_minor": 5
}
