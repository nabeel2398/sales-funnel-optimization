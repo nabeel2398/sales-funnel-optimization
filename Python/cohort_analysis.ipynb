import pandas as pd

# Load data
df = pd.read_csv("dataset/sample_data.csv")
df['Date'] = pd.to_datetime(df['Date'])
df['Month'] = df['Date'].dt.to_period("M")

# Basic cohort: conversion by month
cohort = df.groupby('Month')['Conversion'].value_counts(normalize=True).unstack().fillna(0)
print(cohort)